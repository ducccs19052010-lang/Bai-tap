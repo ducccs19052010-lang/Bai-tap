{
 "cells": [
  {
   "cell_type": "code",
   "execution_count": null,
   "id": "d3d1e2fa",
   "metadata": {},
   "outputs": [],
   "source": [
    "#W4A1\n",
    "n = int(input())\n",
    "s = 0\n",
    "for i in range(1,n + 1):\n",
    "    s = s + i\n",
    "print (s)"
   ]
  },
  {
   "cell_type": "code",
   "execution_count": null,
   "id": "b73a7f33",
   "metadata": {},
   "outputs": [
    {
     "name": "stdout",
     "output_type": "stream",
     "text": [
      "Bạn nhập sai dữ liệu! Vui lòng nhập lại.\n",
      "1 không là số nguyên tố\n"
     ]
    }
   ],
   "source": [
    "#W4A2\n",
    "import math\n",
    "\n",
    "flag = True\n",
    "\n",
    "while True:\n",
    "    try:\n",
    "        n = int(input(\"Nhập số nguyên dương: \"))\n",
    "        if n >= 0:\n",
    "            break\n",
    "        else:\n",
    "            print(\"Bạn phải nhập số nguyên dương! Vui lòng nhập lại.\")\n",
    "    except ValueError:\n",
    "        print(\"Bạn nhập sai dữ liệu! Vui lòng nhập lại.\")\n",
    "\n",
    "flag = True\n",
    "for i in range(2, int(math.sqrt(n)) + 1):\n",
    "    if n % i == 0:\n",
    "        flag = False\n",
    "        break\n",
    "\n",
    "if flag and n > 1:      #Thêm điều kiện n > 1 để không xảy ra việc dữ liệu nhập vào không thỏa mãn mà vẫn kiểm tra snt\n",
    "    print(f\"{n} là số nguyên tố\")\n",
    "else:\n",
    "    print(f\"{n} không là số nguyên tố\")\n"
   ]
  },
  {
   "cell_type": "code",
   "execution_count": 65,
   "id": "512eebde",
   "metadata": {},
   "outputs": [
    {
     "name": "stdout",
     "output_type": "stream",
     "text": [
      "3628800\n"
     ]
    }
   ],
   "source": [
    "#W4A3\n",
    "n = int(input())\n",
    "a = 1\n",
    "for i in range(1, n+1):\n",
    "    a *= i\n",
    "print(a)\n"
   ]
  },
  {
   "cell_type": "code",
   "execution_count": null,
   "id": "a9035fdf",
   "metadata": {},
   "outputs": [],
   "source": [
    "#W4A4\n",
    "n = int(input())\n",
    "count = 0\n",
    "so = abs(n)  \n",
    "if so == 0:\n",
    "    count = 1\n",
    "else:\n",
    "    while so > 0:\n",
    "        so //= 10\n",
    "        count += 1\n",
    "print(count)\n"
   ]
  },
  {
   "cell_type": "code",
   "execution_count": null,
   "id": "584a0e02",
   "metadata": {},
   "outputs": [],
   "source": [
    "#W4A11\n",
    "n = int(input(\"Nhập số nguyên dương n: \"))\n",
    "count = 0\n",
    "for i in range(2, n + 1, 2):            #2 la gia tri ban dau; n+1 la gia tri cuoi; 2 la buoc nhay\n",
    "    if n % i == 0:\n",
    "        count += 1\n",
    "print(\"Số lượng ước số chẵn của n là:\", count)\n"
   ]
  },
  {
   "cell_type": "code",
   "execution_count": null,
   "id": "3b0ae5f8",
   "metadata": {},
   "outputs": [],
   "source": [
    "#W4A12\n",
    "X = int(input())  \n",
    "N = int(input())  \n",
    "\n",
    "result = X\n",
    "for _ in range(N):\n",
    "    result = int(result * 1.007)  \n",
    "print(result)\n"
   ]
  },
  {
   "cell_type": "code",
   "execution_count": null,
   "id": "f9f7e1d1",
   "metadata": {},
   "outputs": [],
   "source": [
    "#W4A13\n",
    "def nghiem(n):\n",
    "    result = 0\n",
    "    for i in range(1, n):\n",
    "        if n % i == 0:\n",
    "            result += i\n",
    "    return result\n",
    "\n",
    "a = int(input())\n",
    "b = int(input())\n",
    "\n",
    "if nghiem(a) == b and nghiem(b) == a:\n",
    "    print(\"true\")\n",
    "else:\n",
    "    print(\"false\")\n"
   ]
  },
  {
   "cell_type": "code",
   "execution_count": null,
   "id": "be389e3b",
   "metadata": {},
   "outputs": [],
   "source": [
    "#W4A14\n",
    "a = int(input())\n",
    "b = int(input())\n",
    "min_ab = min(a, b)\n",
    "ucln = 1\n",
    "for i in range(1, min_ab + 1):\n",
    "    if a % i == 0 and b % i == 0:\n",
    "        ucln = i\n",
    "print(ucln)\n"
   ]
  },
  {
   "cell_type": "code",
   "execution_count": 79,
   "id": "49b42263",
   "metadata": {},
   "outputs": [
    {
     "name": "stdout",
     "output_type": "stream",
     "text": [
      "invalid\n"
     ]
    }
   ],
   "source": [
    "#W4A15\n",
    "a = int(input(\"Nhap vao so con vat:\"))\n",
    "b = int(input(\"Nhap vao so chan:\"))\n",
    "if a > b:\n",
    "    print(\"invalid\")\n",
    "chan = False\n",
    "for ga in range(1, a + 1):\n",
    "    cho = a - ga\n",
    "    sochan = cho*4 + ga*2\n",
    "    if sochan == b:\n",
    "        print(\"So ga la:\",ga)\n",
    "        print(\"So cho la:\",cho)\n",
    "        chan = True\n",
    "        break\n",
    "if chan == False:\n",
    "    print(\"invalid\")"
   ]
  }
 ],
 "metadata": {
  "kernelspec": {
   "display_name": "Python 3",
   "language": "python",
   "name": "python3"
  },
  "language_info": {
   "codemirror_mode": {
    "name": "ipython",
    "version": 3
   },
   "file_extension": ".py",
   "mimetype": "text/x-python",
   "name": "python",
   "nbconvert_exporter": "python",
   "pygments_lexer": "ipython3",
   "version": "3.13.7"
  }
 },
 "nbformat": 4,
 "nbformat_minor": 5
}
