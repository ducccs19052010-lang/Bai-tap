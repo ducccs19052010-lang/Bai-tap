{
 "cells": [
  {
   "cell_type": "code",
   "execution_count": 3,
   "id": "26cf5f27",
   "metadata": {},
   "outputs": [
    {
     "name": "stdout",
     "output_type": "stream",
     "text": [
      "30\n"
     ]
    }
   ],
   "source": [
    "#Bai 1\n",
    "x = int(input())\n",
    "print (2*x)"
   ]
  },
  {
   "cell_type": "code",
   "execution_count": null,
   "id": "6fc5343e",
   "metadata": {},
   "outputs": [
    {
     "name": "stdout",
     "output_type": "stream",
     "text": [
      "1.94\n"
     ]
    }
   ],
   "source": [
    "#Bai 2\n",
    "a = float(input())\n",
    "b = float (input())\n",
    "s=(3.14*a*a)/4\n",
    "dientich = a*b - s\n",
    "print(f\"{dientich:.2f}\")\n"
   ]
  },
  {
   "cell_type": "code",
   "execution_count": 3,
   "id": "97a6bb93",
   "metadata": {},
   "outputs": [
    {
     "name": "stdout",
     "output_type": "stream",
     "text": [
      "g\n"
     ]
    }
   ],
   "source": [
    "#Bai 3\n",
    "x = input()\n",
    "if x.islower() == 1:\n",
    "    print(x.upper())\n",
    "else:\n",
    "    print (x.lower())"
   ]
  },
  {
   "cell_type": "code",
   "execution_count": 2,
   "id": "76b0f447",
   "metadata": {},
   "outputs": [
    {
     "name": "stdout",
     "output_type": "stream",
     "text": [
      "7 khong la ki tu anphabet\n"
     ]
    }
   ],
   "source": [
    "#Bai 4\n",
    "x= input()\n",
    "if x.isalpha() == 1:\n",
    "    print(x,\"la ki tu anphabet\")\n",
    "else:\n",
    "    print(x,\"khong la ki tu anphabet\")"
   ]
  },
  {
   "cell_type": "code",
   "execution_count": 9,
   "id": "b71abb50",
   "metadata": {},
   "outputs": [
    {
     "name": "stdout",
     "output_type": "stream",
     "text": [
      "b\n"
     ]
    }
   ],
   "source": [
    "#Bai 5\n",
    "x= input()\n",
    "if x == 'A':\n",
    "    print (\"Khong co chu cai nao dung truoc chu cai 'a' \")\n",
    "else:\n",
    "    so = ord(x) + 32 - 1\n",
    "    print (chr(so))"
   ]
  },
  {
   "cell_type": "code",
   "execution_count": null,
   "id": "8eefdfb4",
   "metadata": {},
   "outputs": [],
   "source": [
    "#Bai 6"
   ]
  }
 ],
 "metadata": {
  "kernelspec": {
   "display_name": "Python 3",
   "language": "python",
   "name": "python3"
  },
  "language_info": {
   "codemirror_mode": {
    "name": "ipython",
    "version": 3
   },
   "file_extension": ".py",
   "mimetype": "text/x-python",
   "name": "python",
   "nbconvert_exporter": "python",
   "pygments_lexer": "ipython3",
   "version": "3.13.7"
  }
 },
 "nbformat": 4,
 "nbformat_minor": 5
}
