{
 "cells": [
  {
   "cell_type": "code",
   "execution_count": 3,
   "id": "26cf5f27",
   "metadata": {},
   "outputs": [
    {
     "name": "stdout",
     "output_type": "stream",
     "text": [
      "30\n"
     ]
    }
   ],
   "source": [
    "#Bai 1\n",
    "x = int(input())\n",
    "print (2*x)"
   ]
  },
  {
   "cell_type": "code",
   "execution_count": null,
   "id": "6fc5343e",
   "metadata": {},
   "outputs": [
    {
     "name": "stdout",
     "output_type": "stream",
     "text": [
      "1.94\n"
     ]
    }
   ],
   "source": [
    "#Bai 2\n",
    "a = float(input())\n",
    "b = float (input())\n",
    "s=(3.14*a*a)/4\n",
    "dientich = a*b - s\n",
    "print(f\"{dientich:.2f}\")\n"
   ]
  },
  {
   "cell_type": "code",
   "execution_count": 3,
   "id": "97a6bb93",
   "metadata": {},
   "outputs": [
    {
     "name": "stdout",
     "output_type": "stream",
     "text": [
      "g\n"
     ]
    }
   ],
   "source": [
    "#Bai 3\n",
    "x = input()\n",
    "if x.islower() == 1:\n",
    "    print(x.upper())\n",
    "else:\n",
    "    print (x.lower())"
   ]
  },
  {
   "cell_type": "code",
   "execution_count": 2,
   "id": "76b0f447",
   "metadata": {},
   "outputs": [
    {
     "name": "stdout",
     "output_type": "stream",
     "text": [
      "7 khong la ki tu anphabet\n"
     ]
    }
   ],
   "source": [
    "#Bai 4\n",
    "x= input()\n",
    "if x.isalpha() == 1:\n",
    "    print(x,\"la ki tu anphabet\")\n",
    "else:\n",
    "    print(x,\"khong la ki tu anphabet\")"
   ]
  },
  {
   "cell_type": "code",
   "execution_count": 9,
   "id": "b71abb50",
   "metadata": {},
   "outputs": [
    {
     "name": "stdout",
     "output_type": "stream",
     "text": [
      "b\n"
     ]
    }
   ],
   "source": [
    "#Bai 5\n",
    "x= input()\n",
    "if x == 'A':\n",
    "    print (\"Khong co chu cai nao dung truoc chu cai 'a' \")\n",
    "else:\n",
    "    so = ord(x) + 32 - 1\n",
    "    print (chr(so))"
   ]
  },
  {
   "cell_type": "code",
   "execution_count": null,
   "id": "8eefdfb4",
   "metadata": {},
   "outputs": [
    {
     "name": "stdout",
     "output_type": "stream",
     "text": [
      "5.562148865321747\n"
     ]
    }
   ],
   "source": [
    "#Bai 6\n",
    "import math\n",
    "a,b,c = map(float, input().split())\n",
    "if a+b <= c:\n",
    "    print(\"khong phai 3 canh cua tam giac \")\n",
    "else:\n",
    "    p=(a+b+c)/2\n",
    "    s= math.sqrt(p*(p-a)*(p-b)*(p-c))\n",
    "    print(s)"
   ]
  },
  {
   "cell_type": "code",
   "execution_count": 11,
   "id": "6d538818",
   "metadata": {},
   "outputs": [
    {
     "name": "stdout",
     "output_type": "stream",
     "text": [
      "e\n",
      "i\n"
     ]
    }
   ],
   "source": [
    "#Bai 7\n",
    "x = input()\n",
    "chuoi1 = x[4:5]\n",
    "chuoi2 = x[8:9]\n",
    "print(chuoi1)\n",
    "print(chuoi2)"
   ]
  },
  {
   "cell_type": "code",
   "execution_count": 27,
   "id": "4cb9a490",
   "metadata": {},
   "outputs": [
    {
     "name": "stdout",
     "output_type": "stream",
     "text": [
      "Ho va ten: Truong Quoc Kiet\n",
      "Tien phai tra la: 107136\n"
     ]
    }
   ],
   "source": [
    "#Bai 8\n",
    "hoten = input(\"Ten Chu Ho\")\n",
    "print(\"Ho va ten:\",hoten)\n",
    "x = float(input(\"Chi so thang truoc\"))\n",
    "y = float(input(\"Chi so thang nay\"))\n",
    "s = y - x\n",
    "def tiendien(s):\n",
    "        if s > 400:\n",
    "            tien = ((s - 400)*3460 + 1074500)*1.08\n",
    "        else:\n",
    "              if s > 300 and s < 401:\n",
    "                    tien = ((s-300)*3350 + 739500)*1.08\n",
    "              else:\n",
    "                    if s > 200 and s < 301:\n",
    "                          tien = ((s - 200)*2998 + 439700)*1.08\n",
    "                    else:\n",
    "                          if s > 100 and s < 201:\n",
    "                                tien = ((s - 100)*2380 + 201700)*1.08\n",
    "                          else:\n",
    "                                if s > 50 and s < 100:\n",
    "                                      tien = ((s - 50)*2050 + 99200)*1.08\n",
    "                                else:\n",
    "                                            tien = s*1984*1.08\n",
    "        return tien\n",
    "tientra = tiendien(s)\n",
    "print (\"Tien phai tra la:\", f\"{tientra:.0f}\")"
   ]
  },
  {
   "cell_type": "code",
   "execution_count": null,
   "id": "63e626dc",
   "metadata": {},
   "outputs": [],
   "source": []
  }
 ],
 "metadata": {
  "kernelspec": {
   "display_name": "Python 3",
   "language": "python",
   "name": "python3"
  },
  "language_info": {
   "codemirror_mode": {
    "name": "ipython",
    "version": 3
   },
   "file_extension": ".py",
   "mimetype": "text/x-python",
   "name": "python",
   "nbconvert_exporter": "python",
   "pygments_lexer": "ipython3",
   "version": "3.13.7"
  }
 },
 "nbformat": 4,
 "nbformat_minor": 5
}
