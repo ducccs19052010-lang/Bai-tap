{
 "cells": [
  {
   "cell_type": "code",
   "execution_count": 8,
   "id": "382cb98a",
   "metadata": {},
   "outputs": [
    {
     "name": "stdout",
     "output_type": "stream",
     "text": [
      "Dien tich: 12.0\n",
      "Chu vi: 14.0\n"
     ]
    }
   ],
   "source": [
    "#Bái 1\n",
    "a,b = map(float,input().split())\n",
    "S = a*b\n",
    "C = 2*(a+b) \n",
    "print (\"Dien tich:\",S)\n",
    "print (\"Chu vi:\",C)"
   ]
  },
  {
   "cell_type": "code",
   "execution_count": 6,
   "id": "90de0509",
   "metadata": {},
   "outputs": [
    {
     "name": "stdout",
     "output_type": "stream",
     "text": [
      "Dien tich: 78.53981633974483\n",
      "Chu vi: 31.41592653589793\n"
     ]
    }
   ],
   "source": [
    "#Bai 2\n",
    "import math\n",
    "r = float(input())\n",
    "pi = math.pi\n",
    "S = pi*r**2\n",
    "C = 2*pi*r\n",
    "print(\"Dien tich:\",S)\n",
    "print (\"Chu vi:\",C)"
   ]
  },
  {
   "cell_type": "code",
   "execution_count": null,
   "id": "3225c5fe",
   "metadata": {},
   "outputs": [
    {
     "name": "stdout",
     "output_type": "stream",
     "text": [
      "Loại tam giác: Tam giác Thường\n",
      "Chu vi: 20.0\n",
      "Diện tích: 13.416407864998739\n"
     ]
    }
   ],
   "source": [
    "#Bai 3\n",
    "import math\n",
    "a, b, c = map(float, input().split())\n",
    "if a + b <= c or a + c <= b or b + c <= a or a <= 0 or b <= 0 or c <= 0:\n",
    "    print(\"Khong la ba canh cua mot tam giac\")\n",
    "else:\n",
    "    if a == b == c:\n",
    "        loai = \"Tam giác Đều\"\n",
    "    elif a == b or b == c or a == c:\n",
    "        if (\n",
    "            a ** 2 + b ** 2 == c ** 2\n",
    "            or a ** 2 + c ** 2 == b ** 2\n",
    "            or b ** 2 + c ** 2 == a ** 2\n",
    "        ):\n",
    "            loai = \"Tam giác Vuông Cân\"\n",
    "        else:\n",
    "            loai = \"Tam giác Cân\"\n",
    "    elif (\n",
    "        a ** 2 + b ** 2 == c ** 2\n",
    "        or a ** 2 + c ** 2 == b ** 2\n",
    "        or b ** 2 + c ** 2 == a ** 2\n",
    "    ):\n",
    "        loai = \"Tam giác Vuông\"\n",
    "    else:\n",
    "        loai = \"Tam giác Thường\"\n",
    "    cv = a + b + c\n",
    "    p = cv / 2\n",
    "    S = math.sqrt(p * (p - a) * (p - b) * (p - c))\n",
    "    print(\"Loại tam giác:\", loai)\n",
    "    print(\"Chu vi:\", cv)\n",
    "    print(\"Diện tích:\", S)\n"
   ]
  },
  {
   "cell_type": "code",
   "execution_count": 19,
   "id": "7c8221dd",
   "metadata": {},
   "outputs": [
    {
     "name": "stdout",
     "output_type": "stream",
     "text": [
      "Nghiem cua phuong trinh la: -2.0\n"
     ]
    }
   ],
   "source": [
    "#Bai 4\n",
    "a,b = map(float, input(\"Nhap vao he so a b cua phuong trinh\").split())\n",
    "nghiem = -b/a\n",
    "print(\"Nghiem cua phuong trinh la:\",nghiem)\n"
   ]
  },
  {
   "cell_type": "code",
   "execution_count": 7,
   "id": "0f0d7986",
   "metadata": {},
   "outputs": [
    {
     "name": "stdout",
     "output_type": "stream",
     "text": [
      "Phuong trinh co 2 nghiem phan biet -3.41421 va -0.585786\n"
     ]
    }
   ],
   "source": [
    "#Bai 5\n",
    "import math\n",
    "a,b,c = map(float, input(\"Nhap vao he so a b c cua phuong trinh\").split())\n",
    "denta = b**2 - 4*a*c\n",
    "if denta < 0:\n",
    "    print(\"Phuong trinh vo nghiem\")\n",
    "elif denta == 0:\n",
    "    nghiem = -b/a\n",
    "    print(\"Phuong trinh co nghiem kep:\",nghiem)\n",
    "elif denta > 0:\n",
    "    x1 = (-b - math.sqrt(denta))/2*a\n",
    "    x2 = (-b + math.sqrt(denta))/2*a\n",
    "    print(\"Phuong trinh co 2 nghiem phan biet\",f'{x1:g}',\"va\",f'{x2:g}')\n"
   ]
  },
  {
   "cell_type": "code",
   "execution_count": null,
   "id": "2267eda5",
   "metadata": {},
   "outputs": [
    {
     "name": "stdout",
     "output_type": "stream",
     "text": [
      "Gia tri lon nhat la: 4.4\n"
     ]
    }
   ],
   "source": [
    "#Bai 6 cach 1\n",
    "a,b,c,d = map(float, input(\"Nhap vao gia tri a,b,c,d:\").split())\n",
    "max = a\n",
    "if (b > a): max = b\n",
    "if (c > b): max = c\n",
    "if (d > c): max = d\n",
    "print(\"Gia tri lon nhat la:\",f'{max:g}')"
   ]
  },
  {
   "cell_type": "code",
   "execution_count": 14,
   "id": "41ea14f6",
   "metadata": {},
   "outputs": [
    {
     "name": "stdout",
     "output_type": "stream",
     "text": [
      "Gia tri nho nhat la: 0.5\n"
     ]
    }
   ],
   "source": [
    "#Bai 7\n",
    "a,b,c,d = map(float, input(\"Nhap vao gia tri a,b,c,d:\").split())\n",
    "min = a\n",
    "if (b < a): min = b\n",
    "if (c < b): min = c\n",
    "if (d < c): min = d\n",
    "print(\"Gia tri nho nhat la:\",f'{min:g}')"
   ]
  },
  {
   "cell_type": "code",
   "execution_count": 7,
   "id": "e5cfbecf",
   "metadata": {},
   "outputs": [
    {
     "name": "stdout",
     "output_type": "stream",
     "text": [
      "Hệ phương trình vô nghiệm hoặc vô số nghiệm\n"
     ]
    }
   ],
   "source": [
    "# Bai 8\n",
    "a, b, m = map(float, input(\"Nhập các hệ số của ax + by = m: \").split())\n",
    "c, d, n = map(float, input(\"Nhập các hệ số của cx + dy = n: \").split())\n",
    "D = a * d - b * c\n",
    "if D == 0:\n",
    "    print(\"Hệ phương trình vô nghiệm hoặc vô số nghiệm\")\n",
    "else:\n",
    "    Dx = m * d - b * n\n",
    "    Dy = a * n - m * c\n",
    "    x = Dx / D\n",
    "    y = Dy / D\n",
    "    print(f\"x = {x:g}\")\n",
    "    print(f\"y = {y:g}\")\n"
   ]
  },
  {
   "cell_type": "code",
   "execution_count": 17,
   "id": "b231b69b",
   "metadata": {},
   "outputs": [
    {
     "name": "stdout",
     "output_type": "stream",
     "text": [
      "So giay la: 3600\n",
      "So phut la: 60\n",
      "So gio la: 1\n"
     ]
    }
   ],
   "source": [
    "#Bai 9\n",
    "time = float(input(\"Nhap thoi gian cong viec\"))\n",
    "gio = time/(60*60)\n",
    "phut = time/60\n",
    "print(\"So giay la:\",f'{time:g}')\n",
    "print(\"So phut la:\",f'{phut:g}')\n",
    "print(\"So gio la:\",f'{gio:g}')"
   ]
  },
  {
   "cell_type": "code",
   "execution_count": 22,
   "id": "2b3f3af6",
   "metadata": {},
   "outputs": [
    {
     "name": "stdout",
     "output_type": "stream",
     "text": [
      "Diem bat ki thuoc duong tron\n"
     ]
    }
   ],
   "source": [
    "#Bai 10\n",
    "import math\n",
    "x,y = map(float, input(\"Nhap vao toa do tam:\").split())\n",
    "r = float(input(\"Nhap vao ban kinh r:\"))\n",
    "a,b = map(float, input(\"Nhap vao toa do cua 1 diem bat ki:\").split())\n",
    "if math.sqrt((x-a)**2+(y-b)**2) <= r:\n",
    "    print(\"Diem bat ki thuoc duong tron\")\n",
    "else:\n",
    "    print(\"Diem bat ki khong thuoc duong tron\")"
   ]
  },
  {
   "cell_type": "code",
   "execution_count": 2,
   "id": "aa9ec5c4",
   "metadata": {},
   "outputs": [
    {
     "name": "stdout",
     "output_type": "stream",
     "text": [
      "8\n"
     ]
    }
   ],
   "source": [
    "#Bai 11\n",
    "a,b = map(float, input(\"Nhap vao gia tri x,y:\").split())\n",
    "s = a**b\n",
    "print(f'{s:g}')"
   ]
  },
  {
   "cell_type": "code",
   "execution_count": 4,
   "id": "8adf1d09",
   "metadata": {},
   "outputs": [
    {
     "name": "stdout",
     "output_type": "stream",
     "text": [
      "27\n"
     ]
    }
   ],
   "source": [
    "#Bai 11 cach 2\n",
    "import math\n",
    "x,y = map(float, input(\"Nhap vao gia tri x,y\").split())\n",
    "s = math.pow(x,y)\n",
    "print(f'{s:g}')"
   ]
  }
 ],
 "metadata": {
  "kernelspec": {
   "display_name": "Python 3",
   "language": "python",
   "name": "python3"
  },
  "language_info": {
   "codemirror_mode": {
    "name": "ipython",
    "version": 3
   },
   "file_extension": ".py",
   "mimetype": "text/x-python",
   "name": "python",
   "nbconvert_exporter": "python",
   "pygments_lexer": "ipython3",
   "version": "3.13.7"
  }
 },
 "nbformat": 4,
 "nbformat_minor": 5
}
